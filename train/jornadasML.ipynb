{
  "nbformat": 4,
  "nbformat_minor": 0,
  "metadata": {
    "colab": {
      "provenance": []
    },
    "kernelspec": {
      "name": "python3",
      "display_name": "Python 3"
    },
    "language_info": {
      "name": "python"
    }
  },
  "cells": [
    {
      "cell_type": "markdown",
      "source": [
        "## 1. Compreensão dos Dados"
      ],
      "metadata": {
        "id": "DgcirrBIp3nH"
      }
    },
    {
      "cell_type": "markdown",
      "source": [
        "#### [1] Carregar os dados e imprimir as primeiras linhas. Examinar a estrutura básica e identificar o tipo de dados de cada atributo."
      ],
      "metadata": {
        "id": "tBU-uD7wp5nS"
      }
    },
    {
      "cell_type": "code",
      "source": [
        "import pandas as pd\n",
        "\n",
        "# Ler o ficheiro\n",
        "file_path_csv = './heart_disease_uci.csv'\n",
        "\n",
        "# Construir o dataframe\n",
        "heart_data = pd.read_csv(file_path_csv)\n",
        "\n",
        "# Mostrar as primeiras linhas e a estrutura do conjunto de dados\n",
        "heart_data.head()"
      ],
      "metadata": {
        "id": "RxUMFtiLqDoe"
      },
      "execution_count": null,
      "outputs": []
    },
    {
      "cell_type": "markdown",
      "source": [
        "#### [2] Verificar a existência de valores em falta e identificar colunas que possam requerer limpeza ou transformação adicional"
      ],
      "metadata": {
        "id": "S1qQuObLqF6F"
      }
    },
    {
      "cell_type": "code",
      "source": [
        "heart_data.info()"
      ],
      "metadata": {
        "id": "acgkwJI_qHqW"
      },
      "execution_count": null,
      "outputs": []
    },
    {
      "cell_type": "markdown",
      "source": [
        "#### [3] Calcular estatísticas básicas (média, mediana, etc.) e analisar a distribuição de cada atributo."
      ],
      "metadata": {
        "id": "_zVUurztqKMt"
      }
    },
    {
      "cell_type": "code",
      "source": [
        "heart_data.describe()"
      ],
      "metadata": {
        "id": "t-IompXFqL3A"
      },
      "execution_count": null,
      "outputs": []
    },
    {
      "cell_type": "markdown",
      "source": [
        "## 2. Exploração dos Dados"
      ],
      "metadata": {
        "id": "qaK71HwRqOOC"
      }
    },
    {
      "cell_type": "markdown",
      "source": [
        "#### [1] Explore a distribuição da classe. Qual a variação entre casos positivos (doença) vs casos negativos (sem doença)."
      ],
      "metadata": {
        "id": "BUNIdAT8qPXR"
      }
    },
    {
      "cell_type": "code",
      "source": [
        "import matplotlib.pyplot as plt\n",
        "import seaborn as sns\n",
        "\n",
        "sns.set_theme(style=\"whitegrid\")\n",
        "\n",
        "plt.figure(figsize=(8, 6))\n",
        "ax = sns.countplot(data=heart_data, x='num', hue='num', palette=\"viridis\")\n",
        "plt.title('Distribution of Target Variable: Heart Disease Presence (num)')\n",
        "plt.xlabel('Heart Disease (0=No, 1+=Yes)')\n",
        "plt.ylabel('Count')\n",
        "\n",
        "# Add labels on top of each bar\n",
        "for p in ax.patches:\n",
        "    ax.annotate(f'{int(p.get_height())}',\n",
        "                (p.get_x() + p.get_width() / 2, p.get_height()),\n",
        "                ha='center', va='bottom')\n",
        "\n",
        "plt.show()"
      ],
      "metadata": {
        "id": "qBzbdQGLqTRu"
      },
      "execution_count": null,
      "outputs": []
    },
    {
      "cell_type": "markdown",
      "source": [
        "#### Conversão da classe em binário"
      ],
      "metadata": {
        "id": "yVaW0Z7rqVkF"
      }
    },
    {
      "cell_type": "code",
      "source": [
        "heart_data['num'] = (heart_data['num'] > 0).astype(int)"
      ],
      "metadata": {
        "id": "DtJi9hwYqXgC"
      },
      "execution_count": null,
      "outputs": []
    },
    {
      "cell_type": "code",
      "source": [
        "sns.set_theme(style=\"whitegrid\")\n",
        "\n",
        "plt.figure(figsize=(8, 6))\n",
        "ax = sns.countplot(data=heart_data, x='num', hue='num', palette=\"viridis\", legend=False)  # Use 'viridis' color palette and set 'num' as hue\n",
        "plt.title('Distribution of Target Variable: Heart Disease Presence (num)')\n",
        "plt.xlabel('Heart Disease (0=No, 1+=Yes)')\n",
        "plt.ylabel('Count')\n",
        "\n",
        "for p in ax.patches:\n",
        "    ax.annotate(f'{int(p.get_height())}',\n",
        "                (p.get_x() + p.get_width() / 2, p.get_height()),\n",
        "                ha='center', va='bottom')\n",
        "\n",
        "plt.show()"
      ],
      "metadata": {
        "id": "bkGi2SymqZRH"
      },
      "execution_count": null,
      "outputs": []
    },
    {
      "cell_type": "markdown",
      "source": [
        "#### [2] Compare diferentes atributos (age, ejection fraction, sérum sodium, oldpeak) com a classe."
      ],
      "metadata": {
        "id": "KZXuKx1AqbHY"
      }
    },
    {
      "cell_type": "code",
      "source": [
        "fig, axes = plt.subplots(1, 3, figsize=(18, 5))\n",
        "\n",
        "## Comparison for age vs Heart Disease\n",
        "sns.boxplot(data=heart_data, x='num', y='age', hue='num', ax=axes[0], palette=\"viridis\")\n",
        "axes[0].set_title('Age vs Heart Disease', color='darkblue')\n",
        "axes[0].set_xlabel('Heart Disease (num)', color='darkgreen')\n",
        "axes[0].set_ylabel('Age', color='darkred')\n",
        "axes[0].tick_params(axis='x', colors='purple')\n",
        "axes[0].tick_params(axis='y', colors='purple')\n",
        "\n",
        "## Comparison for Thalch vs Heart Disease\n",
        "sns.boxplot(data=heart_data, x='num', y='thalch', hue='num', ax=axes[1], palette=\"viridis\")\n",
        "axes[1].set_title('Thalch (Max Heart Rate) vs Heart Disease', color='darkblue')\n",
        "axes[1].set_xlabel('Heart Disease (num)', color='darkgreen')\n",
        "axes[1].set_ylabel('Thalch', color='darkred')\n",
        "axes[1].tick_params(axis='x', colors='purple')\n",
        "axes[1].tick_params(axis='y', colors='purple')\n",
        "\n",
        "## Comparison for Oldpeak vs Heart Disease\n",
        "sns.boxplot(data=heart_data, x='num', y='oldpeak', hue='num', ax=axes[2], palette=\"viridis\")\n",
        "axes[2].set_title('Oldpeak vs Heart Disease', color='darkblue')\n",
        "axes[2].set_xlabel('Heart Disease (num)', color='darkgreen')\n",
        "axes[2].set_ylabel('Oldpeak', color='darkred')\n",
        "axes[2].tick_params(axis='x', colors='purple')\n",
        "axes[2].tick_params(axis='y', colors='purple')\n",
        "\n",
        "plt.tight_layout()\n",
        "plt.show()"
      ],
      "metadata": {
        "id": "3timQ7tkqdF7"
      },
      "execution_count": null,
      "outputs": []
    },
    {
      "cell_type": "markdown",
      "source": [
        "#### (a) Use o histplot para comparar thalach e ca com a possibilidade de doença."
      ],
      "metadata": {
        "id": "gi3a5S1EqfcO"
      }
    },
    {
      "cell_type": "code",
      "source": [
        "# For the 'thalach' (max heart rate achieved) attribute\n",
        "plt.figure(figsize=(10, 5))\n",
        "sns.histplot(data=heart_data, x='thalch', hue='num', multiple=\"stack\", kde=True, palette=\"viridis\")\n",
        "plt.title(\"Distribution of Thalach (Max Heart Rate) vs Heart Disease\")\n",
        "plt.xlabel(\"Thalach (Max Heart Rate)\")\n",
        "plt.ylabel(\"Frequency\")\n",
        "\n",
        "# For the 'ca' (number of major vessels colored by fluoroscopy) attribute\n",
        "plt.figure(figsize=(10, 5))\n",
        "sns.histplot(data=heart_data, x='ca', hue='num', multiple=\"stack\", kde=True, palette=\"viridis\")\n",
        "plt.title(\"Distribution of CA (Major Vessels) vs Heart Disease\")\n",
        "plt.xlabel(\"CA (Number of Major Vessels)\")\n",
        "plt.ylabel(\"Frequency\")\n",
        "\n",
        "plt.show()"
      ],
      "metadata": {
        "id": "RO3xK_M6qhOc"
      },
      "execution_count": null,
      "outputs": []
    },
    {
      "cell_type": "markdown",
      "source": [
        "#### [3]  Identifique padrões ou correlações entre os atributos, utilizando matrizes de correlação. Não utilize os atributos ‘id’ e ‘num’."
      ],
      "metadata": {
        "id": "em0yd5_oqjlw"
      }
    },
    {
      "cell_type": "code",
      "source": [
        "# Select only numeric columns for the correlation matrix\n",
        "numeric_columns = heart_data.select_dtypes(include='number').drop(columns=['id', 'num'])\n",
        "correlation_matrix = numeric_columns.corr()\n",
        "\n",
        "# Plot the correlation heatmap\n",
        "plt.figure(figsize=(10, 8))\n",
        "sns.heatmap(correlation_matrix, annot=True, cmap='coolwarm', fmt=\".2f\", annot_kws={'color': 'black'})\n",
        "plt.title('Correlation Matrix of Numerical Features', color='darkblue')\n",
        "plt.xticks(color='purple')\n",
        "plt.yticks(color='purple')\n",
        "plt.show()"
      ],
      "metadata": {
        "id": "BGfyjhReqjJV"
      },
      "execution_count": null,
      "outputs": []
    },
    {
      "cell_type": "markdown",
      "source": [
        "## 3. Processamento de Dados"
      ],
      "metadata": {
        "id": "qwBfIk7UqneE"
      }
    },
    {
      "cell_type": "markdown",
      "source": [
        "#### [1] Tratar os valores em falta identificados na fase de compreensão dos dados."
      ],
      "metadata": {
        "id": "GCDthOUuqpLn"
      }
    },
    {
      "cell_type": "code",
      "source": [
        "from sklearn.preprocessing import LabelEncoder, StandardScaler\n",
        "\n",
        "# Define the threshold of 30% for missing values\n",
        "missing_value_threshold = 0.3\n",
        "\n",
        "# Iterate over the columns of the DataFrame\n",
        "for column in heart_data.columns:\n",
        "    # Calculate the percentage of missing values\n",
        "    missing_percentage = heart_data[column].isnull().mean()\n",
        "\n",
        "    # Check if the percentage of missing values is greater than the threshold\n",
        "    if missing_percentage > missing_value_threshold:\n",
        "        # Drop the column if it has more than 30% missing values\n",
        "        heart_data = heart_data.drop(columns=[column])\n",
        "        print(f\"Column '{column}' dropped due to more than 30% missing values.\")\n",
        "    else:\n",
        "        # Fill missing values\n",
        "        if heart_data[column].dtype in ['float64', 'int64']:\n",
        "            # Fill with the median for numerical columns\n",
        "            heart_data[column] = heart_data[column].fillna(heart_data[column].median())\n",
        "        else:\n",
        "            # Fill with the mode for categorical columns\n",
        "            heart_data[column] = heart_data[column].fillna(heart_data[column].mode()[0])\n",
        "            heart_data[column] = heart_data[column].infer_objects()  # Ensure correct data types if needed\n"
      ],
      "metadata": {
        "id": "R8m2kjdjqq9E"
      },
      "execution_count": null,
      "outputs": []
    },
    {
      "cell_type": "code",
      "source": [
        "# validate\n",
        "heart_data.info()"
      ],
      "metadata": {
        "id": "dzlgMF6cqtBX"
      },
      "execution_count": null,
      "outputs": []
    },
    {
      "cell_type": "markdown",
      "source": [
        "#### [2] Escalar ou normalizar características numéricas para garantir consistência nos dados para a fase de modelação."
      ],
      "metadata": {
        "id": "Jp0GKUD7qu-n"
      }
    },
    {
      "cell_type": "code",
      "source": [
        "scaler = StandardScaler()\n",
        "numerical_features = heart_data.select_dtypes(include=['float64', 'int64']).columns.drop('num')\n",
        "heart_data[numerical_features] = scaler.fit_transform(heart_data[numerical_features])\n",
        "\n",
        "# Display the preprocessed data (first few rows)\n",
        "heart_data.head()"
      ],
      "metadata": {
        "id": "Tx6SXu6-qxF2"
      },
      "execution_count": null,
      "outputs": []
    },
    {
      "cell_type": "markdown",
      "source": [
        "#### [3] Codificar variáveis categóricas, se existirem, em valores numéricos."
      ],
      "metadata": {
        "id": "xn7bC6ALqzUH"
      }
    },
    {
      "cell_type": "code",
      "source": [
        "# Dictionary to store the encoders for each column\n",
        "label_encoders = {}\n",
        "\n",
        "# Apply LabelEncoder to all categorical columns and store the conversion information\n",
        "for column in heart_data.select_dtypes(include=['object', 'bool']).columns:\n",
        "    # Create the encoder\n",
        "    le = LabelEncoder()\n",
        "\n",
        "    # Apply the encoder to the column and store it in the dictionary\n",
        "    heart_data[column] = le.fit_transform(heart_data[column])\n",
        "    label_encoders[column] = le\n",
        "\n",
        "    # Add the value mappings for each column to the information list\n",
        "    print(f\"Coluna: {column}\")\n",
        "    for i, class_name in enumerate(le.classes_):\n",
        "        print(f\"  {class_name} -> {i}\")"
      ],
      "metadata": {
        "id": "fF9ZjfMfq1Ff"
      },
      "execution_count": null,
      "outputs": []
    },
    {
      "cell_type": "code",
      "source": [
        "heart_data.head()"
      ],
      "metadata": {
        "id": "laH2ihknq23B"
      },
      "execution_count": null,
      "outputs": []
    },
    {
      "cell_type": "code",
      "source": [
        "heart_data.info()"
      ],
      "metadata": {
        "id": "a47q6FEbq40i"
      },
      "execution_count": null,
      "outputs": []
    },
    {
      "cell_type": "markdown",
      "source": [
        "#### [4] Remover atributos desnecessários."
      ],
      "metadata": {
        "id": "iObcYIw0q7Ay"
      }
    },
    {
      "cell_type": "code",
      "source": [
        "heart_data = heart_data.drop(columns=['id'])"
      ],
      "metadata": {
        "id": "utX2vCzyq8Ya"
      },
      "execution_count": null,
      "outputs": []
    },
    {
      "cell_type": "code",
      "source": [
        "heart_data.head()"
      ],
      "metadata": {
        "id": "46Ofi5TTq-Jh"
      },
      "execution_count": null,
      "outputs": []
    },
    {
      "cell_type": "markdown",
      "source": [
        "## 4. Modelação"
      ],
      "metadata": {
        "id": "FHqkfEdmrAEP"
      }
    },
    {
      "cell_type": "markdown",
      "source": [
        "#### [1] Dividir o conjunto de dados em conjuntos de treino e teste (80/20)."
      ],
      "metadata": {
        "id": "6g09fRkSrBnE"
      }
    },
    {
      "cell_type": "code",
      "source": [
        "from sklearn.model_selection import train_test_split\n",
        "\n",
        "# Convert categorical features in X to one-hot encoded columns\n",
        "X = heart_data.drop(columns=['num'])  # Features (excluding target)\n",
        "\n",
        "# Only the target variable\n",
        "y_binary = heart_data['num']\n",
        "\n",
        "# Split the data into training and test sets\n",
        "X_train, X_test, y_train, y_test = train_test_split(X, y_binary, test_size=0.2, random_state=42)\n",
        "\n",
        "X_train.info()\n",
        "X_test.info()\n",
        "y_train.info()\n",
        "y_test.info()"
      ],
      "metadata": {
        "id": "VoQDYR-zrDSI"
      },
      "execution_count": null,
      "outputs": []
    },
    {
      "cell_type": "markdown",
      "source": [
        "#### [2] Experimentar com Random Forest."
      ],
      "metadata": {
        "id": "TKydI-PFrFZe"
      }
    },
    {
      "cell_type": "code",
      "source": [
        "from sklearn.ensemble import RandomForestClassifier\n",
        "from sklearn.svm import SVC\n",
        "\n",
        "# Initialize and train the RandomForest model\n",
        "rf_model = RandomForestClassifier(random_state=42)\n",
        "rf_model.fit(X_train, y_train)\n",
        "\n",
        "# Make predictions with the RandomForest model\n",
        "y_pred_rf = rf_model.predict(X_test)\n",
        "\n",
        "print('[INFO] - Random Forest predictions complete!!')"
      ],
      "metadata": {
        "id": "tqmW9rT_rHXl"
      },
      "execution_count": null,
      "outputs": []
    },
    {
      "cell_type": "markdown",
      "source": [
        "## 5. Avaliação"
      ],
      "metadata": {
        "id": "hL9LIAw8rJhy"
      }
    },
    {
      "cell_type": "markdown",
      "source": [
        "#### [1] Avaliar o desempenho do modelo utilizando métricas como precisão, precisão específica, recall e F1-score"
      ],
      "metadata": {
        "id": "AhXx0sd5rLKF"
      }
    },
    {
      "cell_type": "code",
      "source": [
        "from sklearn.metrics import classification_report, confusion_matrix\n",
        "\n",
        "rf_report = classification_report(y_test, y_pred_rf)\n",
        "\n",
        "print(f\"DecisionTrees Report:\\n\", rf_report)"
      ],
      "metadata": {
        "id": "7OjxUl1mrNBW"
      },
      "execution_count": null,
      "outputs": []
    },
    {
      "cell_type": "markdown",
      "source": [
        "#### [2] Gerar uma matriz de confusão para o modelo e interpretar os resultados"
      ],
      "metadata": {
        "id": "hmcQGLD4rPBG"
      }
    },
    {
      "cell_type": "code",
      "source": [
        "def plot_confusion_matrix(y_true, y_pred, title):\n",
        "    cm = confusion_matrix(y_true, y_pred)\n",
        "    plt.figure(figsize=(6, 4))\n",
        "    sns.heatmap(cm, annot=True, fmt=\"d\", cmap=\"Blues\", cbar=False,\n",
        "                xticklabels=['No Heart Disease', 'Heart Disease'],\n",
        "                yticklabels=['No Heart Disease', 'Heart Disease'])\n",
        "    plt.xlabel(\"Predicted Label\")\n",
        "    plt.ylabel(\"True Label\")\n",
        "    plt.title(title)\n",
        "    plt.show()\n",
        "\n",
        "plot_confusion_matrix(y_test, y_pred_rf, \"Confusion Matrix: Random Forest\")"
      ],
      "metadata": {
        "id": "x0-WQz62rQhM"
      },
      "execution_count": null,
      "outputs": []
    }
  ]
}